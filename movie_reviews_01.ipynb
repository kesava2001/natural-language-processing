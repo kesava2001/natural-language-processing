{
  "nbformat": 4,
  "nbformat_minor": 0,
  "metadata": {
    "colab": {
      "name": "movie_reviews_01.ipynb",
      "provenance": []
    },
    "kernelspec": {
      "name": "python3",
      "display_name": "Python 3"
    },
    "language_info": {
      "name": "python"
    }
  },
  "cells": [
    {
      "cell_type": "code",
      "metadata": {
        "id": "i0wD5VeoZyOV"
      },
      "source": [
        "import os\n",
        "\n",
        "dir = '/content/drive/MyDrive/Colab Notebooks/NLP/data sets/txt_sentoken'"
      ],
      "execution_count": 1,
      "outputs": []
    },
    {
      "cell_type": "code",
      "metadata": {
        "colab": {
          "base_uri": "https://localhost:8080/"
        },
        "id": "1UgJ_5YUmQJ7",
        "outputId": "8ac4cea2-1c07-4f7b-982a-f144d261ce4d"
      },
      "source": [
        "import nltk\n",
        "from nltk.corpus import stopwords\n",
        "nltk.download('stopwords')"
      ],
      "execution_count": 7,
      "outputs": [
        {
          "output_type": "stream",
          "name": "stdout",
          "text": [
            "[nltk_data] Downloading package stopwords to /root/nltk_data...\n",
            "[nltk_data]   Unzipping corpora/stopwords.zip.\n"
          ]
        },
        {
          "output_type": "execute_result",
          "data": {
            "text/plain": [
              "True"
            ]
          },
          "metadata": {},
          "execution_count": 7
        }
      ]
    },
    {
      "cell_type": "code",
      "metadata": {
        "id": "Oi5tN1sPagDV"
      },
      "source": [
        "def load_docs(filename):\n",
        "  file = open(filename, 'r')\n",
        "  text = file.read()\n",
        "  file.close()\n",
        "  return text\n",
        "\n",
        "def clean_doc(filename):\n",
        "  text = load_docs(filename)\n",
        "  tokens = text.split()\n",
        "  tokens = [t.lower() for t in tokens]\n",
        "  tokens = [re.sub('[^a-zA-Z]', ' ', t) for t in tokens]\n",
        "  tokens = [t for t in tokens if t.isalpha()]\n",
        "  sw = set(stopwords.words('english'))\n",
        "  tokens = [t for t in tokens if t not in sw]\n",
        "  tokens = [t for t in tokens if len(t)>1]\n",
        "  return tokens\n",
        "\n",
        "def process_doc(dir, vocab):\n",
        "  for filename in os.listdir(dir):\n",
        "    path = dir + '/' + filename\n",
        "    tokens = clean_doc(path)\n",
        "    vocab.update(tokens)"
      ],
      "execution_count": 25,
      "outputs": []
    },
    {
      "cell_type": "code",
      "metadata": {
        "id": "Yb6THj_HwkPg"
      },
      "source": [
        "def save_file(lines, filename):\n",
        "  data = '\\n'.join(lines)\n",
        "  file = open(filename, 'w')\n",
        "  file.write(data)\n",
        "  file.close()"
      ],
      "execution_count": 16,
      "outputs": []
    },
    {
      "cell_type": "code",
      "metadata": {
        "id": "oj613-u0qivd"
      },
      "source": [
        "from collections import Counter\n",
        "import re\n",
        "vocab = Counter()\n",
        "\n",
        "n_dir = dir+'/neg'\n",
        "p_dir = dir+'/pos'\n",
        "process_doc(n_dir, vocab)\n",
        "process_doc(p_dir, vocab)\n",
        "\n",
        "tokens = [t for t,c in vocab.items() if c>=5]\n",
        "\n",
        "path = dir+'/vocab.txt'\n",
        "save_file(tokens, path)"
      ],
      "execution_count": 18,
      "outputs": []
    },
    {
      "cell_type": "code",
      "metadata": {
        "id": "mJDz5GE3yo2c"
      },
      "source": [
        "def doc_to_line(filename, vocab):\n",
        "  tokens = clean_doc(filename)\n",
        "  tokens = [w for w in tokens if w in vocab]\n",
        "  return ' '.join(tokens)\n",
        "\n",
        "def process(filename, vocab):\n",
        "  lines = list()\n",
        "  for dir in os.listdir(filename):\n",
        "    path = filename + '/' + dir\n",
        "    line = doc_to_line(path, vocab)\n",
        "    lines.append(line)\n",
        "  return lines"
      ],
      "execution_count": 24,
      "outputs": []
    },
    {
      "cell_type": "code",
      "metadata": {
        "id": "23cLwS-L4XOj"
      },
      "source": [
        "negative_lines = process(n_dir, vocab)\n",
        "save_file(negative_lines, dir+'/cleaned_neg.txt')\n",
        "\n",
        "positive_lines = process(p_dir, vocab)\n",
        "save_file(positive_lines, dir+'/cleaned_pos.txt')"
      ],
      "execution_count": 23,
      "outputs": []
    }
  ]
}